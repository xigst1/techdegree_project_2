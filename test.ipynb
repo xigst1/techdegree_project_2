{
 "cells": [
  {
   "cell_type": "code",
   "execution_count": 1,
   "metadata": {},
   "outputs": [],
   "source": [
    "\"\"\"\n",
    "2018-09-26\n",
    "Secret Message\n",
    "atbash cipher\n",
    "affline cipher\n",
    "keyword cipher\n",
    "\"\"\"\n",
    "\n",
    "from ciphers import Cipher\n"
   ]
  },
  {
   "cell_type": "markdown",
   "metadata": {},
   "source": [
    "# Atbash Cipher\n",
    "\n",
    "The Atbash cipher is a particular type of monoalphabetic cipher formed by taking the alphabet (or abjad, syllabary, etc.) and mapping it to its reverse, so that the first letter becomes the last letter, the second letter becomes the second to last letter, and so on."
   ]
  },
  {
   "cell_type": "code",
   "execution_count": 4,
   "metadata": {},
   "outputs": [],
   "source": [
    "FORWARD = 'abcdefghijklmnopqrstuvwxyz'\n",
    "REVERSE = FORWARD[::-1]\n",
    "\n",
    "ENCRYPT_DICT = {FORWARD[x]: REVERSE[x] for x in range(len(FORWARD))}\n",
    "DECRYPT_DICT = {REVERSE[x]: FORWARD[x] for x in range(len(FORWARD))}"
   ]
  },
  {
   "cell_type": "code",
   "execution_count": 8,
   "metadata": {},
   "outputs": [
    {
     "name": "stdout",
     "output_type": "stream",
     "text": [
      "z z\n"
     ]
    }
   ],
   "source": [
    "print(ENCRYPT_DICT['a'], DECRYPT_DICT['a'])"
   ]
  },
  {
   "cell_type": "code",
   "execution_count": 95,
   "metadata": {},
   "outputs": [],
   "source": [
    "def get_inverse_a(a, m = 26):\n",
    "    \"\"\"\n",
    "    a help function to compute parameter inverse a for affline cipher\n",
    "    \"\"\"\n",
    "    inverse_a = 1\n",
    "    # a and inverse_a are so-called  modular multiplicative inverse of a modulo m. \n",
    "    while (inverse_a*a)%m != 1:\n",
    "        # update inverse_a until it satisfies a*inverse_a mod m = 1\n",
    "        inverse_a += 1\n",
    "        \n",
    "    return inverse_a"
   ]
  },
  {
   "cell_type": "code",
   "execution_count": 98,
   "metadata": {},
   "outputs": [
    {
     "name": "stdout",
     "output_type": "stream",
     "text": [
      "21\n",
      "15\n",
      "3\n"
     ]
    }
   ],
   "source": [
    "print(get_inverse_a(5))\n",
    "print(get_inverse_a(7))\n",
    "print(get_inverse_a(9))\n"
   ]
  },
  {
   "cell_type": "code",
   "execution_count": 79,
   "metadata": {},
   "outputs": [],
   "source": [
    "class Atbash(Cipher):\n",
    "    \"\"\"\n",
    "    The Atbash cipher is a particular type of monoalphabetic cipher formed \n",
    "    by taking the alphabet (or abjad, syllabary, etc.) and mapping it to \n",
    "    its reverse, so that the first letter becomes the last letter, \n",
    "    the second letter becomes the second to last letter, and so on.\n",
    "    \"\"\"\n",
    "    # define constant variables\n",
    "\n",
    "    \n",
    "    def __init__(self, letters = 'abcdefghijklmnopqrstuvwxyz'):\n",
    "        \"\"\"\n",
    "        initiate 2 dictionaries to map original letter to encrypted one and vice versa\n",
    "        \"\"\"  \n",
    "        self.forward = {letters[x]: letters[::-1][x] for x in range(len(letters))}\n",
    "        self.reverse = {letters[::-1][x]: letters[x] for x in range(len(letters))}\n",
    "        self.name = 'Atbash cipher'\n",
    "    \n",
    "    \n",
    "    def encrypt(self, text):\n",
    "        \"\"\"\n",
    "        a method to encry an input text string\n",
    "        \"\"\"\n",
    "        # initiate an empty list\n",
    "        output = []\n",
    "        \n",
    "        # iterate through each letter using index\n",
    "        for a_chr in text.lower():\n",
    "            \n",
    "            if a_chr == ' ':  # if it is a space character\n",
    "                output.append(' ')\n",
    "            else:  # add encrypted letter to the output string\n",
    "                output.append(self.forward[a_chr])\n",
    "        \n",
    "        return ''.join(output)\n",
    "    \n",
    "    \n",
    "    def decrypt(self, text):\n",
    "        \"\"\"\n",
    "        a method to encry an input text string\n",
    "        \"\"\"\n",
    "        # initiate an empty string\n",
    "        output = []\n",
    "        # iterate through each character\n",
    "        for a_chr in text.lower():\n",
    "            if a_chr == ' ':  # if it is a space character\n",
    "                output.append(' ')\n",
    "            else:  # add decrypted letter to the output string\n",
    "                output.append(self.reverse[a_chr])\n",
    "        \n",
    "        return ''.join(output)\n",
    "\n",
    "\n",
    "class Affline(Cipher):\n",
    "       \n",
    "    def __init__(self, a, b, m = 26, letters = 'abcdefghijklmnopqrstuvwxyz'):\n",
    "        \"\"\"\n",
    "        initiate the parameters as referred by https://en.wikipedia.org/wiki/Affine_cipher\n",
    "        \"\"\"\n",
    "        self.a = a\n",
    "        self.b = b\n",
    "        self.m = m\n",
    "        self.a_rev = get_a_rev(a, m = self.m)\n",
    "        self.letters = letters\n",
    "\n",
    "        \n",
    "    def encrypt(self, text):\n",
    "        \"\"\"\n",
    "        a method to encry an input text string\n",
    "        \"\"\"\n",
    "        # initiate an empty list\n",
    "        output = []\n",
    "        \n",
    "        # iterate through each letter using index\n",
    "        for a_chr in text.lower():\n",
    "            \n",
    "            if a_chr == ' ':  # if it is a space character\n",
    "                output.append(' ')\n",
    "            else:\n",
    "                new_key = (self.letters.index(a_chr) * self.a + self.b) % self.m\n",
    "                output.append(self.letters[new_key])\n",
    "            \n",
    "        return ''.join(output)\n",
    "    \n",
    "    def decrypt(self, text):\n",
    "        \"\"\"\n",
    "        a method to decrypt back to its original string\n",
    "        \"\"\"\n",
    "        # initiate an empty list\n",
    "        output = []\n",
    "        \n",
    "        # iterate through each letter using index\n",
    "        for a_chr in text.lower():\n",
    "            \n",
    "            if a_chr == ' ':  # if it is a space character\n",
    "                output.append(' ')\n",
    "            else:\n",
    "                new_key = (self.a_rev *(self.letters.index(a_chr) - self.b)) % self.m\n",
    "                output.append(self.letters[new_key])\n",
    "        \n",
    "        return ''.join(output)\n",
    "\n",
    "\n",
    "class Keyword(Cipher):\n",
    "      \n",
    "    def __init__(self, key = 'kryptos', letters = 'abcdefghijklmnopqrstuvwxyz'):\n",
    "        self.key_1 = key\n",
    "        self.key_2 = ''.join([x for x in letters if x not in self.key_1])\n",
    "        self.key = self.key_1 + self.key_2\n",
    "        self.encrypts = {letters[x]: self.key[x] for x in range(len(letters))}\n",
    "        self.decrypts = {val: key for key, val in self.encrypts.items()}\n",
    "        \n",
    "    def encrypt(self, text):\n",
    "        \"\"\"\n",
    "        a method to encry an input text string\n",
    "        \"\"\"\n",
    "        # initiate an empty list\n",
    "        output = []\n",
    "        \n",
    "        # iterate through each letter using index\n",
    "        for a_chr in text.lower():\n",
    "            \n",
    "            if a_chr == ' ':  # if it is a space character\n",
    "                output.append(' ')\n",
    "            else:  # add encrypted letter to the output string\n",
    "                output.append(self.encrypts[a_chr])\n",
    "        \n",
    "        return ''.join(output)\n",
    "    \n",
    "    \n",
    "    def decrypt(self, text):\n",
    "        \"\"\"\n",
    "        a method to encry an input text string\n",
    "        \"\"\"\n",
    "        # initiate an empty string\n",
    "        output = []\n",
    "        # iterate through each character\n",
    "        for a_chr in text.lower():\n",
    "            if a_chr == ' ':  # if it is a space character\n",
    "                output.append(' ')\n",
    "            else:  # add decrypted letter to the output string\n",
    "                output.append(self.decrypts[a_chr])\n",
    "        \n",
    "        return ''.join(output)"
   ]
  },
  {
   "cell_type": "code",
   "execution_count": 80,
   "metadata": {},
   "outputs": [
    {
     "name": "stdout",
     "output_type": "stream",
     "text": [
      "yzyb nzc\n",
      "baby max\n"
     ]
    }
   ],
   "source": [
    "my_cipher = Atbash()\n",
    "encrypted = my_cipher.encrypt('baby max')\n",
    "print(encrypted)\n",
    "decrypted = my_cipher.decrypt(encrypted)\n",
    "print(decrypted)"
   ]
  },
  {
   "cell_type": "markdown",
   "metadata": {},
   "source": [
    "# Affline cipher\n",
    "\n",
    "The affine cipher is a type of monoalphabetic substitution cipher, wherein each letter in an alphabet is mapped to its numeric equivalent, encrypted using a simple mathematical function, and converted back to a letter. The formula used means that each letter encrypts to one other letter, and back again, meaning the cipher is essentially a standard substitution cipher with a rule governing which letter goes to which. As such, it has the weaknesses of all substitution ciphers. Each letter is enciphered with the function (ax + b) mod 26, where b is the magnitude of the shift."
   ]
  },
  {
   "cell_type": "code",
   "execution_count": 88,
   "metadata": {},
   "outputs": [],
   "source": [
    "class Affline(Cipher):\n",
    "    LETTERS = 'abcdefghijklmnopqrstuvwxyz'\n",
    "    \n",
    "    def __init__(self):\n",
    "        \"\"\"\n",
    "        initiate the parameters as referred by https://en.wikipedia.org/wiki/Affine_cipher\n",
    "        \"\"\"\n",
    "        self.a = 5\n",
    "        self.b = 8\n",
    "        self.a_rev = 21\n",
    "        self.m = 26\n",
    "        self.name = 'Affline cipher'\n",
    "        \n",
    "    def encrypt(self, text):\n",
    "        \"\"\"\n",
    "        a method to encry an input text string\n",
    "        \"\"\"\n",
    "        # initiate an empty list\n",
    "        output = []\n",
    "        \n",
    "        # iterate through each letter using index\n",
    "        for a_chr in text.lower():\n",
    "            \n",
    "            if a_chr == ' ':  # if it is a space character\n",
    "                output.append(' ')\n",
    "            else:\n",
    "                new_key = (LETTERS.index(a_chr) * self.a + self.b) % self.m\n",
    "                output.append(LETTERS[new_key])\n",
    "            \n",
    "        return ''.join(output)\n",
    "    \n",
    "    def decrypt(self, text):\n",
    "        \"\"\"\n",
    "        a method to decrypt back to its original string\n",
    "        \"\"\"\n",
    "        # initiate an empty list\n",
    "        output = []\n",
    "        \n",
    "        # iterate through each letter using index\n",
    "        for a_chr in text.lower():\n",
    "            \n",
    "            if a_chr == ' ':  # if it is a space character\n",
    "                output.append(' ')\n",
    "            else:\n",
    "                new_key = (self.a_rev *(LETTERS.index(a_chr) - self.b)) % self.m\n",
    "                output.append(LETTERS[new_key])\n",
    "        \n",
    "        return ''.join(output)"
   ]
  },
  {
   "cell_type": "code",
   "execution_count": 89,
   "metadata": {},
   "outputs": [
    {
     "name": "stdout",
     "output_type": "stream",
     "text": [
      "ihhwvc swfrcp\n",
      "affine cipher\n",
      "Affline cipher\n"
     ]
    }
   ],
   "source": [
    "my_affline = Affline()\n",
    "encrypted = my_affline.encrypt('AFFINE CIPHER')\n",
    "print(encrypted)\n",
    "decrypted = my_affline.decrypt(encrypted)\n",
    "print(decrypted)\n",
    "print(my_affline.name)"
   ]
  },
  {
   "cell_type": "markdown",
   "metadata": {},
   "source": [
    "# Keyword cipher"
   ]
  },
  {
   "cell_type": "code",
   "execution_count": 86,
   "metadata": {},
   "outputs": [],
   "source": [
    "class Keyword(Cipher):\n",
    "    LETTERS = 'abcdefghijklmnopqrstuvwxyz'\n",
    "    \n",
    "    def __init__(self, key = 'kryptos'):\n",
    "        self.key_1 = key\n",
    "        self.key_2 = ''.join([x for x in LETTERS if x not in self.key_1])\n",
    "        self.key = self.key_1 + self.key_2\n",
    "        self.encrypts = {LETTERS[x]: self.key[x] for x in range(len(LETTERS))}\n",
    "        self.decrypts = {val: key for key, val in self.encrypts.items()}\n",
    "        \n",
    "    def encrypt(self, text):\n",
    "        \"\"\"\n",
    "        a method to encry an input text string\n",
    "        \"\"\"\n",
    "        # initiate an empty list\n",
    "        output = []\n",
    "        \n",
    "        # iterate through each letter using index\n",
    "        for a_chr in text.lower():\n",
    "            \n",
    "            if a_chr == ' ':  # if it is a space character\n",
    "                output.append(' ')\n",
    "            else:  # add encrypted letter to the output string\n",
    "                output.append(self.encrypts[a_chr])\n",
    "        \n",
    "        return ''.join(output)\n",
    "    \n",
    "    \n",
    "    def decrypt(self, text):\n",
    "        \"\"\"\n",
    "        a method to encry an input text string\n",
    "        \"\"\"\n",
    "        # initiate an empty string\n",
    "        output = []\n",
    "        # iterate through each character\n",
    "        for a_chr in text.lower():\n",
    "            if a_chr == ' ':  # if it is a space character\n",
    "                output.append(' ')\n",
    "            else:  # add decrypted letter to the output string\n",
    "                output.append(self.decrypts[a_chr])\n",
    "        \n",
    "        return ''.join(output)\n",
    "        "
   ]
  },
  {
   "cell_type": "code",
   "execution_count": 87,
   "metadata": {},
   "outputs": [
    {
     "name": "stdout",
     "output_type": "stream",
     "text": [
      "dghvetpst bm ihvtl\n",
      "knowledge is power\n"
     ]
    }
   ],
   "source": [
    "my_keyword = Keyword('kryptos')\n",
    "\n",
    "encrypted = my_keyword.encrypt('knowledge is power')\n",
    "print(encrypted)\n",
    "decrypted = my_keyword.decrypt(encrypted)\n",
    "print(decrypted)"
   ]
  },
  {
   "cell_type": "code",
   "execution_count": null,
   "metadata": {},
   "outputs": [],
   "source": []
  }
 ],
 "metadata": {
  "kernelspec": {
   "display_name": "Python 3",
   "language": "python",
   "name": "python3"
  },
  "language_info": {
   "codemirror_mode": {
    "name": "ipython",
    "version": 3
   },
   "file_extension": ".py",
   "mimetype": "text/x-python",
   "name": "python",
   "nbconvert_exporter": "python",
   "pygments_lexer": "ipython3",
   "version": "3.6.5"
  }
 },
 "nbformat": 4,
 "nbformat_minor": 2
}
